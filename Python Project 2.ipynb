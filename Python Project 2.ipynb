{
 "cells": [
  {
   "cell_type": "code",
   "execution_count": 4,
   "id": "e3f01a73-5a55-491d-a555-3e72cdb9c951",
   "metadata": {},
   "outputs": [
    {
     "name": "stdout",
     "output_type": "stream",
     "text": [
      "\n",
      " Welcome to the Word Guessing Game!\n",
      " Clue: The secret word has 8 letters.\n"
     ]
    },
    {
     "name": "stdin",
     "output_type": "stream",
     "text": [
      "\n",
      "Enter your guess:  rider\n"
     ]
    },
    {
     "name": "stdout",
     "output_type": "stream",
     "text": [
      " Wrong guess. Try again!\n"
     ]
    },
    {
     "name": "stdin",
     "output_type": "stream",
     "text": [
      "\n",
      "Enter your guess:  slotiutd\n"
     ]
    },
    {
     "name": "stdout",
     "output_type": "stream",
     "text": [
      " Wrong guess. Try again!\n"
     ]
    },
    {
     "name": "stdin",
     "output_type": "stream",
     "text": [
      "\n",
      "Enter your guess:  solitude\n"
     ]
    },
    {
     "name": "stdout",
     "output_type": "stream",
     "text": [
      " Wrong guess. Try again!\n"
     ]
    },
    {
     "name": "stdin",
     "output_type": "stream",
     "text": [
      "\n",
      "Enter your guess:  traveler\n"
     ]
    },
    {
     "name": "stdout",
     "output_type": "stream",
     "text": [
      " Wrong guess. Try again!\n"
     ]
    },
    {
     "name": "stdin",
     "output_type": "stream",
     "text": [
      "\n",
      "Enter your guess:  introvert\n"
     ]
    },
    {
     "name": "stdout",
     "output_type": "stream",
     "text": [
      " Wrong guess. Try again!\n"
     ]
    },
    {
     "name": "stdin",
     "output_type": "stream",
     "text": [
      "\n",
      "Enter your guess:  explorer\n"
     ]
    },
    {
     "name": "stdout",
     "output_type": "stream",
     "text": [
      "\n",
      " Correct! The secret word was 'explorer'.\n",
      " You guessed it in 6 attempts.\n"
     ]
    }
   ],
   "source": [
    "# TASK 1 \n",
    "\n",
    "import random\n",
    "\n",
    "# Custom word list\n",
    "words = [\"solitude\", \"traveler\", \"introvert\", \"explorer\", \"rider\", \"darla\", \"end\"]\n",
    "\n",
    "# Choose a random secret word\n",
    "secret_word = random.choice(words)\n",
    "\n",
    "# Give a clue: number of letters in the word\n",
    "print(\"\\n Welcome to the Word Guessing Game!\")\n",
    "print(f\" Clue: The secret word has {len(secret_word)} letters.\")\n",
    "\n",
    "attempts = 0\n",
    "\n",
    "while True:\n",
    "    guess = input(\"\\nEnter your guess: \").strip().lower()\n",
    "    attempts += 1\n",
    "\n",
    "    if guess == secret_word:\n",
    "        print(f\"\\n Correct! The secret word was '{secret_word}'.\")\n",
    "        print(f\" You guessed it in {attempts} attempts.\")\n",
    "        break\n",
    "    else:\n",
    "        print(\" Wrong guess. Try again!\")\n"
   ]
  },
  {
   "cell_type": "code",
   "execution_count": 9,
   "id": "ea72393b-feed-420e-bc55-6a966007aaa8",
   "metadata": {},
   "outputs": [
    {
     "name": "stdout",
     "output_type": "stream",
     "text": [
      "\n",
      " Welcome to the Game Menu \n",
      "1. Riddle Puzzle\n",
      "2. Arithmetic Puzzle\n",
      "3. General Knowledge Quiz\n",
      "4. Rock–Paper–Scissors (vs Computer)\n",
      "5. Rock–Paper–Scissors (vs User)\n",
      "6. Word Guessing Game\n"
     ]
    },
    {
     "name": "stdin",
     "output_type": "stream",
     "text": [
      "\n",
      "Enter your choice (1-6):  1\n"
     ]
    },
    {
     "name": "stdout",
     "output_type": "stream",
     "text": [
      "\n",
      " Riddle:\n",
      "What has hands but can’t clap?\n"
     ]
    },
    {
     "name": "stdin",
     "output_type": "stream",
     "text": [
      "Your answer:  snake\n"
     ]
    },
    {
     "name": "stdout",
     "output_type": "stream",
     "text": [
      " Wrong! The answer was: clock\n"
     ]
    },
    {
     "name": "stdin",
     "output_type": "stream",
     "text": [
      "\n",
      "Do you want to play again? (Y/N):  y\n"
     ]
    },
    {
     "name": "stdout",
     "output_type": "stream",
     "text": [
      "\n",
      " Welcome to the Game Menu \n",
      "1. Riddle Puzzle\n",
      "2. Arithmetic Puzzle\n",
      "3. General Knowledge Quiz\n",
      "4. Rock–Paper–Scissors (vs Computer)\n",
      "5. Rock–Paper–Scissors (vs User)\n",
      "6. Word Guessing Game\n"
     ]
    },
    {
     "name": "stdin",
     "output_type": "stream",
     "text": [
      "\n",
      "Enter your choice (1-6):  6\n"
     ]
    },
    {
     "name": "stdout",
     "output_type": "stream",
     "text": [
      "\n",
      " Word Guessing Game\n",
      "_ _ _ _ _ _ _\n"
     ]
    },
    {
     "name": "stdin",
     "output_type": "stream",
     "text": [
      "Guess a letter:  memories\n"
     ]
    },
    {
     "name": "stdout",
     "output_type": "stream",
     "text": [
      " Wrong! Attempts left: 5\n",
      "_ _ _ _ _ _ _\n"
     ]
    },
    {
     "name": "stdin",
     "output_type": "stream",
     "text": [
      "Guess a letter:  silence\n"
     ]
    },
    {
     "name": "stdout",
     "output_type": "stream",
     "text": [
      " Wrong! Attempts left: 4\n",
      "_ _ _ _ _ _ _\n"
     ]
    },
    {
     "name": "stdin",
     "output_type": "stream",
     "text": [
      "Guess a letter:  waiting\n"
     ]
    },
    {
     "name": "stdout",
     "output_type": "stream",
     "text": [
      "_ _ _ _ _ _ _\n"
     ]
    },
    {
     "name": "stdin",
     "output_type": "stream",
     "text": [
      "Guess a letter:  silence\n"
     ]
    },
    {
     "name": "stdout",
     "output_type": "stream",
     "text": [
      " Wrong! Attempts left: 3\n",
      "_ _ _ _ _ _ _\n"
     ]
    },
    {
     "name": "stdin",
     "output_type": "stream",
     "text": [
      "Guess a letter:  waiting\n"
     ]
    },
    {
     "name": "stdout",
     "output_type": "stream",
     "text": [
      "_ _ _ _ _ _ _\n"
     ]
    },
    {
     "name": "stdin",
     "output_type": "stream",
     "text": [
      "Guess a letter:  waiting\n"
     ]
    },
    {
     "name": "stdout",
     "output_type": "stream",
     "text": [
      "_ _ _ _ _ _ _\n"
     ]
    },
    {
     "name": "stdin",
     "output_type": "stream",
     "text": [
      "Guess a letter:  waiting\n"
     ]
    },
    {
     "name": "stdout",
     "output_type": "stream",
     "text": [
      "_ _ _ _ _ _ _\n"
     ]
    },
    {
     "name": "stdin",
     "output_type": "stream",
     "text": [
      "Guess a letter:  memories\n"
     ]
    },
    {
     "name": "stdout",
     "output_type": "stream",
     "text": [
      " Wrong! Attempts left: 2\n",
      "_ _ _ _ _ _ _\n"
     ]
    },
    {
     "name": "stdin",
     "output_type": "stream",
     "text": [
      "Guess a letter:  memories\n"
     ]
    },
    {
     "name": "stdout",
     "output_type": "stream",
     "text": [
      " Wrong! Attempts left: 1\n",
      "_ _ _ _ _ _ _\n"
     ]
    },
    {
     "name": "stdin",
     "output_type": "stream",
     "text": [
      "Guess a letter:  memories\n"
     ]
    },
    {
     "name": "stdout",
     "output_type": "stream",
     "text": [
      " Wrong! Attempts left: 0\n",
      " Game over! The word was: waiting\n"
     ]
    },
    {
     "name": "stdin",
     "output_type": "stream",
     "text": [
      "\n",
      "Do you want to play again? (Y/N):  n\n"
     ]
    },
    {
     "name": "stdout",
     "output_type": "stream",
     "text": [
      " Thanks for playing! Goodbye.\n"
     ]
    }
   ],
   "source": [
    "# TASK 2\n",
    "\n",
    "import random\n",
    "\n",
    "class GameMenu:\n",
    "    @staticmethod\n",
    "    def menu():\n",
    "        print(\"\\n Welcome to the Game Menu \")\n",
    "        print(\"1. Riddle Puzzle\")\n",
    "        print(\"2. Arithmetic Puzzle\")\n",
    "        print(\"3. General Knowledge Quiz\")\n",
    "        print(\"4. Rock–Paper–Scissors (vs Computer)\")\n",
    "        print(\"5. Rock–Paper–Scissors (vs User)\")\n",
    "        print(\"6. Word Guessing Game\")\n",
    "\n",
    "\n",
    "\n",
    "\n",
    "def riddle_puzzle():\n",
    "    riddles = [\n",
    "        (\"What has hands but can’t clap?\", \"clock\"),\n",
    "    (\"What goes up but never comes down?\", \"age\"),\n",
    "    (\"The more you take, the more you leave behind. What am I?\", \"footsteps\"),\n",
    "    (\"What gets wetter as it dries?\", \"towel\")\n",
    "    ]\n",
    "    riddle, answer = random.choice(riddles)\n",
    "    print(\"\\n Riddle:\")\n",
    "    print(riddle)\n",
    "    user_answer = input(\"Your answer: \").strip().lower()\n",
    "    if user_answer == answer:\n",
    "        print(\" Correct!\")\n",
    "    else:\n",
    "        print(f\" Wrong! The answer was: {answer}\")\n",
    "\n",
    "def arithmetic_puzzle():\n",
    "    num1 = random.randint(1, 20)\n",
    "    num2 = random.randint(1, 20)\n",
    "    operator = random.choice([\"+\", \"-\", \"*\"])\n",
    "    expression = f\"{num1} {operator} {num2}\"\n",
    "    correct_answer = eval(expression)\n",
    "    print(f\"\\n Solve: {expression}\")\n",
    "    try:\n",
    "        user_answer = int(input(\"Your answer: \"))\n",
    "        if user_answer == correct_answer:\n",
    "            print(\" Correct!\")\n",
    "        else:\n",
    "            print(f\" Wrong! The correct answer was: {correct_answer}\")\n",
    "    except ValueError:\n",
    "        print(\"Invalid input! Please enter a number.\")\n",
    "\n",
    "def general_knowledge_quiz():\n",
    "    questions = [\n",
    "        (\"What is the capital of France?\", \"paris\"),\n",
    "        (\"Which planet is known as the Red Planet?\", \"mars\"),\n",
    "        (\"Who wrote 'Hamlet'?\", \"shakespeare\")\n",
    "    ]\n",
    "    question, answer = random.choice(questions)\n",
    "    print(\"\\n General Knowledge Question:\")\n",
    "    print(question)\n",
    "    user_answer = input(\"Your answer: \").strip().lower()\n",
    "    if user_answer == answer:\n",
    "        print(\" Correct!\")\n",
    "    else:\n",
    "        print(f\" Wrong! The answer was: {answer}\")\n",
    "\n",
    "def rock_paper_scissors_vs_computer():\n",
    "    choices = [\"rock\", \"paper\", \"scissors\"]\n",
    "    user_choice = input(\"\\nChoose rock, paper, or scissors: \").lower()\n",
    "    if user_choice not in choices:\n",
    "        print(\" Invalid choice!\")\n",
    "        return\n",
    "    computer_choice = random.choice(choices)\n",
    "    print(f\"Computer chose: {computer_choice}\")\n",
    "    if user_choice == computer_choice:\n",
    "        print(\" It's a tie!\")\n",
    "    elif (user_choice == \"rock\" and computer_choice == \"scissors\") or \\\n",
    "         (user_choice == \"paper\" and computer_choice == \"rock\") or \\\n",
    "         (user_choice == \"scissors\" and computer_choice == \"paper\"):\n",
    "        print(\" You win!\")\n",
    "    else:\n",
    "        print(\" Computer wins!\")\n",
    "\n",
    "def rock_paper_scissors_vs_user():\n",
    "    choices = [\"rock\", \"paper\", \"scissors\"]\n",
    "    player1 = input(\"\\nPlayer 1 - Choose rock, paper, or scissors: \").lower()\n",
    "    player2 = input(\"Player 2 - Choose rock, paper, or scissors: \").lower()\n",
    "    if player1 not in choices or player2 not in choices:\n",
    "        print(\" Invalid choice!\")\n",
    "        return\n",
    "    if player1 == player2:\n",
    "        print(\" It's a tie!\")\n",
    "    elif (player1 == \"rock\" and player2 == \"scissors\") or \\\n",
    "         (player1 == \"paper\" and player2 == \"rock\") or \\\n",
    "         (player1 == \"scissors\" and player2 == \"paper\"):\n",
    "        print(\" Player 1 wins!\")\n",
    "    else:\n",
    "        print(\" Player 2 wins!\")\n",
    "\n",
    "def word_guessing_game():\n",
    "    words = [\"memories\", \"silence\", \"dreams\", \"empty\", \"waiting\", \"pain\",\"regret\"]\n",
    "    word = random.choice(words)\n",
    "    guessed = [\"_\"] * len(word)\n",
    "    attempts = 6\n",
    "    print(\"\\n Word Guessing Game\")\n",
    "    while attempts > 0 and \"_\" in guessed:\n",
    "        print(\" \".join(guessed))\n",
    "        guess = input(\"Guess a letter: \").lower()\n",
    "        if guess in word:\n",
    "            for i, letter in enumerate(word):\n",
    "                if letter == guess:\n",
    "                    guessed[i] = guess\n",
    "        else:\n",
    "            attempts -= 1\n",
    "            print(f\" Wrong! Attempts left: {attempts}\")\n",
    "    if \"_\" not in guessed:\n",
    "        print(f\" You guessed the word: {word}\")\n",
    "    else:\n",
    "        print(f\" Game over! The word was: {word}\")\n",
    "\n",
    "\n",
    "\n",
    "\n",
    "\n",
    "def main():\n",
    "    while True:\n",
    "        GameMenu.menu()\n",
    "        try:\n",
    "            choice = int(input(\"\\nEnter your choice (1-6): \"))\n",
    "            if choice == 1:\n",
    "                riddle_puzzle()\n",
    "            elif choice == 2:\n",
    "                arithmetic_puzzle()\n",
    "            elif choice == 3:\n",
    "                general_knowledge_quiz()\n",
    "            elif choice == 4:\n",
    "                rock_paper_scissors_vs_computer()\n",
    "            elif choice == 5:\n",
    "                rock_paper_scissors_vs_user()\n",
    "            elif choice == 6:\n",
    "                word_guessing_game()\n",
    "            else:\n",
    "                print(\" Invalid choice! Please select a number between 1 and 6.\")\n",
    "        except ValueError:\n",
    "            print(\" Invalid input! Please enter a number.\")\n",
    "\n",
    "        again = input(\"\\nDo you want to play again? (Y/N): \").strip().lower()\n",
    "        if again != \"y\":\n",
    "            print(\" Thanks for playing! Goodbye.\")\n",
    "            break\n",
    "\n",
    "\n",
    "\n",
    "\n",
    "if __name__ == \"__main__\":\n",
    "    main()\n",
    "\n"
   ]
  }
 ],
 "metadata": {
  "kernelspec": {
   "display_name": "Python 3 (ipykernel)",
   "language": "python",
   "name": "python3"
  },
  "language_info": {
   "codemirror_mode": {
    "name": "ipython",
    "version": 3
   },
   "file_extension": ".py",
   "mimetype": "text/x-python",
   "name": "python",
   "nbconvert_exporter": "python",
   "pygments_lexer": "ipython3",
   "version": "3.13.5"
  }
 },
 "nbformat": 4,
 "nbformat_minor": 5
}
